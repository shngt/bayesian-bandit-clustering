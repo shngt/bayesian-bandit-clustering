{
  "nbformat": 4,
  "nbformat_minor": 0,
  "metadata": {
    "colab": {
      "name": "ictr_gmm",
      "provenance": [],
      "collapsed_sections": []
    },
    "kernelspec": {
      "name": "python3",
      "display_name": "Python 3"
    }
  },
  "cells": [
    {
      "cell_type": "code",
      "metadata": {
        "id": "UTyU4fEvTmuz",
        "colab_type": "code",
        "colab": {
          "base_uri": "https://localhost:8080/",
          "height": 139
        },
        "outputId": "5c4ad7c3-ba5b-486d-e9ff-310bd0ae7e1c"
      },
      "source": [
        "from google.colab import drive\n",
        "drive.mount('/content/drive')\n",
        "%cd drive/My\\ Drive/delicious_csv"
      ],
      "execution_count": null,
      "outputs": [
        {
          "output_type": "stream",
          "text": [
            "Go to this URL in a browser: https://accounts.google.com/o/oauth2/auth?client_id=947318989803-6bn6qk8qdgf4n4g3pfee6491hc0brc4i.apps.googleusercontent.com&redirect_uri=urn%3aietf%3awg%3aoauth%3a2.0%3aoob&response_type=code&scope=email%20https%3a%2f%2fwww.googleapis.com%2fauth%2fdocs.test%20https%3a%2f%2fwww.googleapis.com%2fauth%2fdrive%20https%3a%2f%2fwww.googleapis.com%2fauth%2fdrive.photos.readonly%20https%3a%2f%2fwww.googleapis.com%2fauth%2fpeopleapi.readonly\n",
            "\n",
            "Enter your authorization code:\n",
            "··········\n",
            "Mounted at /content/drive\n",
            "/content/drive/.shortcut-targets-by-id/13yb9Wec53hrGTpqc2YkxagXDWQUnP-5Y/delicious_csv\n"
          ],
          "name": "stdout"
        }
      ]
    },
    {
      "cell_type": "code",
      "metadata": {
        "id": "zRPvOoHGTil6",
        "colab_type": "code",
        "colab": {}
      },
      "source": [
        "import pandas as pd\n",
        "import numpy as np\n",
        "from collections import defaultdict"
      ],
      "execution_count": null,
      "outputs": []
    },
    {
      "cell_type": "code",
      "metadata": {
        "id": "HBJAyn-yT5Zr",
        "colab_type": "code",
        "colab": {}
      },
      "source": [
        "item_embeddings = pd.read_csv(\"norm_matrix_ejml_full_delicious.csv\", header=None)\n",
        "item_embeddings.sort_values(0, inplace=True)\n",
        "book = pd.read_csv(\"bookmarks.csv\")\n",
        "book_tags = pd.read_csv(\"bookmark_tags.csv\")\n",
        "tags = pd.read_csv(\"tags.csv\")\n",
        "user_contacts = pd.read_csv(\"user_contacts.csv\")\n",
        "user_contacts_t = pd.read_csv(\"user_contacts-timestamps.csv\")\n",
        "user_taggedb = pd.read_csv(\"user_taggedbookmarks.csv\")\n",
        "user_taggedbt = pd.read_csv(\"user_taggedbookmarks-timestamps.csv\")"
      ],
      "execution_count": null,
      "outputs": []
    },
    {
      "cell_type": "code",
      "metadata": {
        "id": "VFLcbfpmUQDM",
        "colab_type": "code",
        "colab": {}
      },
      "source": [
        "idx_to_item = {idx: item for idx, item in enumerate(item_embeddings[0].to_list())}\n",
        "item_set = set(item_embeddings[0].to_list())\n",
        "item_to_idx = {v: k for k, v in idx_to_item.items()}\n",
        "idx_to_user = {idx: user for idx, user in enumerate(sorted(list(set(user_taggedb['userID']))))}\n",
        "user_to_idx = {v: k for k, v in idx_to_user.items()}"
      ],
      "execution_count": null,
      "outputs": []
    },
    {
      "cell_type": "code",
      "metadata": {
        "id": "sDEqkJ40UXx5",
        "colab_type": "code",
        "colab": {}
      },
      "source": [
        "user_to_book = []\n",
        "for idx, user in idx_to_user.items():\n",
        "  user_to_book.append((user, sorted(list(set(user_taggedb[user_taggedb[\"userID\"] == user][\"bookmarkID\"])))))\n",
        "user_to_items = {user: items for user, items in user_to_book}\n",
        "pca = item_embeddings.iloc[:, 1:].to_numpy()"
      ],
      "execution_count": null,
      "outputs": []
    },
    {
      "cell_type": "code",
      "metadata": {
        "id": "6mXYXWBwPvl3",
        "colab_type": "code",
        "colab": {
          "base_uri": "https://localhost:8080/",
          "height": 34
        },
        "outputId": "1bcda879-a3f3-4f0e-8d44-6d44b6def3e1"
      },
      "source": [
        "c = 0\n",
        "for _, i in user_to_items.items():\n",
        "  if len(i) > 29:\n",
        "    c += 1\n",
        "print(c)"
      ],
      "execution_count": null,
      "outputs": [
        {
          "output_type": "stream",
          "text": [
            "1530\n"
          ],
          "name": "stdout"
        }
      ]
    },
    {
      "cell_type": "markdown",
      "metadata": {
        "id": "_DP6ENgoHi5S",
        "colab_type": "text"
      },
      "source": [
        "First, we'll try reproducing the algorithm in \"Online Interactive Collaborative Filtering Using Multi-Armed Bandit with Dependent Arms\", which is an LDA-based clustering algorithm.\n"
      ]
    },
    {
      "cell_type": "code",
      "metadata": {
        "id": "9l8V-hF-HhxC",
        "colab_type": "code",
        "colab": {}
      },
      "source": [
        "num_particles = 4\n",
        "num_items = pca.shape[0]\n",
        "D = pca.shape[1]\n",
        "K = D # Number of topics (or clusters) is forced to be equal to PCA dimension,\n",
        "      # since we're not generating feature vectors\n",
        "num_users = len(idx_to_user)\n",
        "num_contexts = 25\n",
        "\n",
        "# Hyperparameters\n",
        "eta = np.ones(num_items) #/ num_items\n",
        "lamda = np.ones(K) #/ K\n",
        "alpha = 1\n",
        "beta = 1\n",
        "# The below are irrelevant due to above\n",
        "# mu_q = np.zeros(D)\n",
        "# Sigma_q = "
      ],
      "execution_count": null,
      "outputs": []
    },
    {
      "cell_type": "code",
      "metadata": {
        "id": "EaxNWWA4pHjL",
        "colab_type": "code",
        "colab": {}
      },
      "source": [
        "def get_contexts(user_idx, num_contexts):\n",
        "  user = idx_to_user[user_idx]\n",
        "  items = user_to_items[user]\n",
        "  items_idx = np.array([item_to_idx[item] for item in items if item in item_set])\n",
        "\n",
        "  good_item_idx = np.random.choice(items_idx, 1)\n",
        "  good_item_context = pca[good_item_idx]\n",
        "  bad_items_idx = np.random.choice(np.setdiff1d(range(num_items), items_idx), num_contexts - 1, replace=False) \n",
        "  bad_items_contexts = pca[bad_items_idx]\n",
        "    \n",
        "  contexts = np.vstack((good_item_context, bad_items_contexts))\n",
        "  rewards = np.array([1] + (num_contexts - 1) * [0]) #-1/(num_contexts - 1)])\n",
        "  idxs = np.concatenate((good_item_idx, bad_items_idx))\n",
        "\n",
        "  return contexts, rewards, idxs"
      ],
      "execution_count": null,
      "outputs": []
    },
    {
      "cell_type": "code",
      "metadata": {
        "id": "ooQWo2YzlbBI",
        "colab_type": "code",
        "colab": {}
      },
      "source": [
        "def evaluate(u, particles):\n",
        "  cu_rewards = np.zeros(num_contexts)\n",
        "  for particle in particles:\n",
        "    p = particle[\"p\"][u, :]\n",
        "    item_feats, r_rewards, item_idxs = get_contexts(u, num_contexts)\n",
        "    for i in range(item_feats.shape[0]):\n",
        "      cu_rewards[i] += np.random.normal(item_feats[i, :]@p, particle[\"sigma\"][item_idxs[i]])\n",
        "  av_rewards = cu_rewards / len(particles)\n",
        "  return av_rewards, r_rewards, item_idxs"
      ],
      "execution_count": null,
      "outputs": []
    },
    {
      "cell_type": "code",
      "metadata": {
        "id": "arBATVp1BDv9",
        "colab_type": "code",
        "colab": {}
      },
      "source": [
        "def update(u, s, r, particles):\n",
        "  weights = np.zeros(len(particles))\n",
        "  for idx, particle in enumerate(particles):\n",
        "    # Review - seems to be some error in the paper\n",
        "    # for k in range(K): # todo - vectorize\n",
        "    #  weights[idx] += (1 / (2 * np.pi * particle[\"sigma\"][s])**0.5) * np.exp(-(r - particle[\"p\"][u, :]@pca[s, :])**2) \n",
        "    #              * (particle[\"p\"][u, k] / np.sum(particle[\"p\"][u, :])) * (particle[\"phi\"][k, s] / np.sum(particle[\"phi\"][k, :]))\n",
        "    weights[idx] += (1 / (2 * np.pi * particle[\"sigma\"][s])**0.5) * np.exp(-(r - particle[\"p\"][u, :]@pca[s, :])**2/(2 * particle[\"sigma\"][s])) * (particle[\"eta\"][s] / np.sum(particle[\"eta\"]))\n",
        "  weights /= np.sum(weights)\n",
        "  for idx, particle in enumerate(particles):\n",
        "    flag = np.random.binomial(1, weights[idx])\n",
        "    if flag == 0:\n",
        "      continue\n",
        "    else:\n",
        "      particle[\"sigma\"] = np.reciprocal(np.random.gamma(particle[\"alpha\"], 1 / particle[\"beta\"], num_items))\n",
        "      particle[\"p\"] = np.random.dirichlet(particle[\"lambda\"], size=num_users)\n",
        "      particle[\"phi\"] = np.random.dirichlet(particle[\"eta\"], size=K)\n",
        "      particle[\"z\"] = np.array([np.random.multinomial(1, particle[\"p\"][i, :]) for i in range(num_users)])\n",
        "  for particle in particles:\n",
        "    # Sufficient statistics for z\n",
        "    e_p = (particle[\"z\"][u, :].copy() * r + particle[\"lambda\"].copy())\n",
        "    e_p /= np.sum(e_p)\n",
        "    e_phi = particle[\"eta\"].copy()\n",
        "    e_phi[s] += r\n",
        "    e_phi /= np.sum(e_phi)\n",
        "    theta = (e_p.copy() * e_phi[s])\n",
        "    theta /= np.sum(theta)\n",
        "    # Resample z as per new posterior\n",
        "    particle[\"z\"][u, :] = np.random.multinomial(1, theta)\n",
        "    # print(particle[\"z\"][u, :])\n",
        "    # Update sufficient statistics\n",
        "    particle[\"alpha\"] += 0.5\n",
        "    particle[\"beta\"] += 0.5 * r**2\n",
        "    particle[\"lambda\"] += particle[\"z\"][u, :] * r\n",
        "    # print(particle[\"lambda\"]) \n",
        "    particle[\"eta\"][s] += r\n",
        "    # print(particle[\"eta\"][s], particle[\"eta\"])\n",
        "    # Resample everything\n",
        "    particle[\"sigma\"] = np.reciprocal(np.random.gamma(particle[\"alpha\"], 1 / particle[\"beta\"], num_items))\n",
        "    particle[\"p\"] = np.random.dirichlet(particle[\"lambda\"], size=num_users)\n",
        "    particle[\"phi\"] = np.random.dirichlet(particle[\"eta\"], size=K)"
      ],
      "execution_count": null,
      "outputs": []
    },
    {
      "cell_type": "code",
      "metadata": {
        "id": "LCxGKkyBHheE",
        "colab_type": "code",
        "colab": {}
      },
      "source": [
        "particles = []\n",
        "for _ in range(num_particles):\n",
        "  particle = {\"eta\": eta, \"lambda\": lamda, \"alpha\": alpha, \"beta\": beta}\n",
        "  particle.update({\"sigma\": np.reciprocal(np.random.gamma(particle[\"alpha\"], 1 / particle[\"beta\"], num_items))})\n",
        "  particle.update({\"p\": np.random.dirichlet(particle[\"lambda\"], size=num_users)})\n",
        "  particle.update({\"phi\": np.random.dirichlet(particle[\"eta\"], size=K)})\n",
        "  particle.update({\"z\": np.array([np.random.multinomial(1, particle[\"p\"][i, :]) for i in range(num_users)])})\n",
        "  particles.append(particle)"
      ],
      "execution_count": null,
      "outputs": []
    },
    {
      "cell_type": "code",
      "metadata": {
        "id": "mhmfVcjykVdP",
        "colab_type": "code",
        "colab": {
          "base_uri": "https://localhost:8080/",
          "height": 68
        },
        "outputId": "4306e05c-1a43-499c-b975-a61ee91da66f"
      },
      "source": [
        "T = 1500\n",
        "cu_r = 0.0\n",
        "all_rewards = []\n",
        "for t in range(T):\n",
        "  if t % 500 == 0:\n",
        "    print(t, cu_r)\n",
        "  u = np.random.choice(num_users)\n",
        "  #print(particles[0][\"eta\"])\n",
        "  av_rewards, r_rewards, item_idxs = evaluate(u, particles)\n",
        "  #print(particles[0][\"eta\"])\n",
        "  s = np.argmax(av_rewards)\n",
        "  r = r_rewards[s]\n",
        "  s = item_idxs[s]\n",
        "  cu_r += r\n",
        "  all_rewards.append(r)\n",
        "  update(u, s, r, particles)"
      ],
      "execution_count": null,
      "outputs": [
        {
          "output_type": "stream",
          "text": [
            "0 0.0\n",
            "500 20.0\n",
            "1000 43.0\n"
          ],
          "name": "stdout"
        }
      ]
    },
    {
      "cell_type": "code",
      "metadata": {
        "id": "tHWnSfQFRLxE",
        "colab_type": "code",
        "colab": {
          "base_uri": "https://localhost:8080/",
          "height": 268
        },
        "outputId": "f8385885-76f4-45f2-92fa-4e81ecdd1a5e"
      },
      "source": [
        "cum_rewards_2 = np.cumsum(all_rewards)\n",
        "plt.plot(range(1500), cum_rewards_2[:1500], \".\")\n",
        "plt.show()"
      ],
      "execution_count": null,
      "outputs": [
        {
          "output_type": "display_data",
          "data": {
            "image/png": "[encoded data removed]",
            "text/plain": [
              "<Figure size 432x288 with 1 Axes>"
            ]
          },
          "metadata": {
            "tags": [],
            "needs_background": "light"
          }
        }
      ]
    },
    {
      "cell_type": "code",
      "metadata": {
        "id": "ZJhwkRcvVw3_",
        "colab_type": "code",
        "colab": {
          "base_uri": "https://localhost:8080/",
          "height": 34
        },
        "outputId": "7813eadc-27ca-4b15-9d94-e507aaa6cc0f"
      },
      "source": [
        "cum_rewards_2[1499]"
      ],
      "execution_count": null,
      "outputs": [
        {
          "output_type": "execute_result",
          "data": {
            "text/plain": [
              "67"
            ]
          },
          "metadata": {
            "tags": []
          },
          "execution_count": 36
        }
      ]
    },
    {
      "cell_type": "code",
      "metadata": {
        "id": "DQ5UkR2sOT3E",
        "colab_type": "code",
        "colab": {
          "base_uri": "https://localhost:8080/",
          "height": 265
        },
        "outputId": "f78bc4c9-a964-4b3b-e401-efe13cf3af5b"
      },
      "source": [
        "import matplotlib.pyplot as plt\n",
        "\n",
        "cum_rewards_10 = np.cumsum(all_rewards)\n",
        "plt.plot(range(1500), cum_rewards_10[:1500], \".\")\n",
        "plt.show()10"
      ],
      "execution_count": null,
      "outputs": [
        {
          "output_type": "display_data",
          "data": {
            "image/png": "[encoded data removed]",
            "text/plain": [
              "<Figure size 432x288 with 1 Axes>"
            ]
          },
          "metadata": {
            "tags": [],
            "needs_background": "light"
          }
        }
      ]
    },
    {
      "cell_type": "code",
      "metadata": {
        "id": "kINpFanuRaxf",
        "colab_type": "code",
        "colab": {
          "base_uri": "https://localhost:8080/",
          "height": 34
        },
        "outputId": "640c9166-b09b-4994-850e-467b3355284a"
      },
      "source": [
        "cum_rewards_10[1500]"
      ],
      "execution_count": null,
      "outputs": [
        {
          "output_type": "execute_result",
          "data": {
            "text/plain": [
              "81"
            ]
          },
          "metadata": {
            "tags": []
          },
          "execution_count": 26
        }
      ]
    },
    {
      "cell_type": "markdown",
      "metadata": {
        "id": "X-17m2h1Ax6Z",
        "colab_type": "text"
      },
      "source": [
        "We'll try the same thing with a GMM over the user features."
      ]
    },
    {
      "cell_type": "code",
      "metadata": {
        "id": "BKkkKs8vUfPL",
        "colab_type": "code",
        "colab": {}
      },
      "source": [
        "num_particles = 2\n",
        "K = 10\n",
        "D = pca.shape[1]\n",
        "num_users = len(idx_to_user)\n",
        "num_contexts = 25\n",
        "num_items = pca.shape[0]\n",
        "\n",
        "# For Dirichlet prior\n",
        "# eta = np.ones(K)\n",
        "\n",
        "# For Gaussian prior\n",
        "mu_0 = np.zeros(D)\n",
        "sigma_0 = np.eye(D)\n",
        "alpha = 1.0\n",
        "beta = 1.0"
      ],
      "execution_count": null,
      "outputs": []
    },
    {
      "cell_type": "code",
      "metadata": {
        "colab_type": "code",
        "id": "Afyn-KFkzrUd",
        "colab": {}
      },
      "source": [
        "def get_contexts(user_idx, num_contexts):\n",
        "  user = idx_to_user[user_idx]\n",
        "  items = user_to_items[user]\n",
        "  items_idx = np.array([item_to_idx[item] for item in items if item in item_set])\n",
        "\n",
        "  good_item_idx = np.random.choice(items_idx, 1)\n",
        "  good_item_context = pca[good_item_idx]\n",
        "  bad_items_idx = np.random.choice(np.setdiff1d(range(num_items), items_idx), num_contexts - 1, replace=False) \n",
        "  bad_items_contexts = pca[bad_items_idx]\n",
        "    \n",
        "  contexts = np.vstack((good_item_context, bad_items_contexts))\n",
        "  rewards = np.array([1] + (num_contexts - 1) * [0]) #-1/(num_contexts - 1)])\n",
        "  idxs = np.concatenate((good_item_idx, bad_items_idx))\n",
        "\n",
        "  return contexts, rewards, idxs"
      ],
      "execution_count": null,
      "outputs": []
    },
    {
      "cell_type": "code",
      "metadata": {
        "colab_type": "code",
        "id": "8lIfyHoyzrUm",
        "colab": {}
      },
      "source": [
        "def evaluate(u, particles):\n",
        "  cu_rewards = np.zeros(num_contexts)\n",
        "  for particle in particles:\n",
        "    p = particle[\"p\"][u, :]\n",
        "    item_feats, r_rewards, item_idxs = get_contexts(u, num_contexts)\n",
        "    for i in range(item_feats.shape[0]):\n",
        "      cu_rewards[i] += np.random.normal(item_feats[i, :]@p, particle[\"sigma\"][item_idxs[i]])\n",
        "  av_rewards = cu_rewards / len(particles)\n",
        "  return av_rewards, r_rewards, item_idxs"
      ],
      "execution_count": null,
      "outputs": []
    },
    {
      "cell_type": "code",
      "metadata": {
        "colab_type": "code",
        "id": "wFfyXdp0zrUr",
        "colab": {}
      },
      "source": [
        "def update(u, s, r, particles):\n",
        "  weights = np.zeros(len(particles))\n",
        "  for idx, particle in enumerate(particles):\n",
        "    # Review - seems to be some error in the paper\n",
        "    # for k in range(K): # todo - vectorize\n",
        "    #  weights[idx] += (1 / (2 * np.pi * particle[\"sigma\"][s])**0.5) * np.exp(-(r - particle[\"p\"][u, :]@pca[s, :])**2) \n",
        "    #              * (particle[\"p\"][u, k] / np.sum(particle[\"p\"][u, :])) * (particle[\"phi\"][k, s] / np.sum(particle[\"phi\"][k, :]))\n",
        "    for k in range(K):  \n",
        "      weights[idx] += (1 / (2 * np.pi * particle[\"sigma\"][s])**0.5) * np.exp(-(r - particle[\"p\"][u, :]@pca[s, :])**2/(2 * particle[\"sigma\"][s])) * particle[\"pi\"][k] * (1 / (2 * np.pi * particle[\"amgis\"][k])**(D/2)) * np.exp(-np.linalg.norm(particle[\"mu\"][k] - particle[\"p\"][u, :])/(2 * particle[\"amgis\"][k]))\n",
        "  weights /= np.sum(weights)\n",
        "  for idx, particle in enumerate(particles):\n",
        "    flag = np.random.binomial(1, weights[idx])\n",
        "    if flag == 0:\n",
        "      continue\n",
        "    else:\n",
        "      particle.update({\"amgis\": np.reciprocal(np.random.gamma(particle[\"alpha\"][1], 1 / particle[\"beta\"][1], size=K))})\n",
        "      particle.update({\"mu\": np.array([np.random.multivariate_normal(particle[\"mu_0\"], particle[\"amgis\"][i] * particle[\"Sigma_0\"]) for i in range(K)])})\n",
        "      particle.update({\"sigma\": np.reciprocal(np.random.gamma(particle[\"alpha\"][0], 1 / particle[\"beta\"][0], num_items))})\n",
        "      particle.update({\"z\": np.random.multinomial(1, particle[\"pi\"], num_users)})\n",
        "      particle.update({\"p\": np.array([np.random.multivariate_normal(particle[\"mu\"][np.argmax(particle[\"z\"][i])],\n",
        "                                                                    particle[\"amgis\"][np.argmax(particle[\"z\"][i])] * particle[\"Sigma_0\"]) for i in range(num_users)])})\n",
        "  for particle in particles:\n",
        "    # Sufficient statistics for z\n",
        "    e_p = np.zeros(K)\n",
        "    for k in range(K):\n",
        "      e_p[k] += particle[\"pi\"][k] * (1 / (2 * np.pi * particle[\"sigma\"][s])**0.5) * np.exp(-(r - particle[\"p\"][u, :]@pca[s, :])**2/(2 * particle[\"sigma\"][s])) # (1 / (2 * np.pi * particle[\"amgis\"][k])**(D/2)) * np.exp(-np.linalg.norm(particle[\"mu\"][k] - particle[\"p\"][u, :])/(2 * particle[\"amgis\"][k]))\n",
        "    e_p /= np.sum(e_p)\n",
        "    # Resample z as per new posterior\n",
        "    particle[\"z\"][u, :] = np.random.multinomial(1, e_p)\n",
        "    # print(particle[\"z\"][u, :])\n",
        "    # Update hyperparameters with sufficient statistics - based on updates from ICTR\n",
        "    S_0 = np.linalg.inv(np.linalg.inv(particle[\"Sigma_0\"]) + np.outer(particle[\"mu\"][np.argmax(particle[\"z\"][u, :])], particle[\"mu\"][np.argmax(particle[\"z\"][u, :])]))\n",
        "    particle[\"mu_0\"] = S_0 @ (np.linalg.inv(particle[\"Sigma_0\"]) @ particle[\"mu_0\"] + r * particle[\"mu\"][np.argmax(particle[\"z\"][u, :])])\n",
        "    particle[\"alpha\"] += 0.5\n",
        "    particle[\"beta\"] += 0.5 * (r - particle[\"p\"][u, :]@pca[s, :])**2\n",
        "    particle[\"pi\"] *= K\n",
        "    particle[\"pi\"][np.argmax(particle[\"z\"][u, :])] += r\n",
        "    particle[\"pi\"] /= (K + r)\n",
        "    particle[\"Sigma_0\"] = S_0\n",
        "    # print(particle[\"lambda\"]) \n",
        "    # particle[\"eta\"][s] += r\n",
        "    # print(particle[\"eta\"][s], particle[\"eta\"])\n",
        "    # Resample everything\n",
        "    particle.update({\"amgis\": np.reciprocal(np.random.gamma(particle[\"alpha\"][1], 1 / particle[\"beta\"][1], size=K))})\n",
        "    particle.update({\"mu\": np.array([np.random.multivariate_normal(particle[\"mu_0\"], particle[\"amgis\"][i] * particle[\"Sigma_0\"]) for i in range(K)])})\n",
        "    particle.update({\"sigma\": np.reciprocal(np.random.gamma(particle[\"alpha\"][0], 1 / particle[\"beta\"][0], num_items))})\n",
        "    particle.update({\"p\": np.array([np.random.multivariate_normal(particle[\"mu\"][np.argmax(particle[\"z\"][i])],\n",
        "                                                                  particle[\"amgis\"][np.argmax(particle[\"z\"][i])] * particle[\"Sigma_0\"]) for i in range(num_users)])})"
      ],
      "execution_count": null,
      "outputs": []
    },
    {
      "cell_type": "code",
      "metadata": {
        "id": "WIxxw-xtQE44",
        "colab_type": "code",
        "colab": {}
      },
      "source": [
        "particles = []\n",
        "for _ in range(num_particles):\n",
        "  particle = {\"pi\": np.ones(K) / K, \"alpha\": np.array([alpha, alpha]), \"beta\": np.array([beta, beta]), \"mu_0\": mu_0, \"Sigma_0\": sigma_0}\n",
        "  particle.update({\"amgis\": np.reciprocal(np.random.gamma(particle[\"alpha\"][1], 1 / particle[\"beta\"][1], size=K))})\n",
        "  particle.update({\"mu\": np.array([np.random.multivariate_normal(particle[\"mu_0\"], particle[\"amgis\"][i] * particle[\"Sigma_0\"]) for i in range(K)])})\n",
        "  particle.update({\"sigma\": np.reciprocal(np.random.gamma(particle[\"alpha\"][0], 1 / particle[\"beta\"][0], num_items))})\n",
        "  particle.update({\"z\": np.random.multinomial(1, particle[\"pi\"], num_users)})\n",
        "  particle.update({\"p\": np.array([np.random.multivariate_normal(particle[\"mu\"][np.argmax(particle[\"z\"][i])],\n",
        "                                                                particle[\"amgis\"][np.argmax(particle[\"z\"][i])] * particle[\"Sigma_0\"]) for i in range(num_users)])})\n",
        "  particles.append(particle)"
      ],
      "execution_count": null,
      "outputs": []
    },
    {
      "cell_type": "code",
      "metadata": {
        "id": "j4ADLm5I2lDd",
        "colab_type": "code",
        "colab": {
          "base_uri": "https://localhost:8080/",
          "height": 408
        },
        "outputId": "bd73a886-3453-4981-d4ef-dc147784bbd4"
      },
      "source": [
        "T = 1500\n",
        "cu_r = 0.0\n",
        "allr2 = []\n",
        "for t in range(T):\n",
        "  if t % 500 == 0:\n",
        "    print(t, cu_r)\n",
        "  u = np.random.choice(num_users)\n",
        "  #print(particles[0][\"eta\"])\n",
        "  av_rewards, r_rewards, item_idxs = evaluate(u, particles)\n",
        "  #print(particles[0][\"eta\"])\n",
        "  s = np.argmax(av_rewards)\n",
        "  r = r_rewards[s]\n",
        "  s = item_idxs[s]\n",
        "  cu_r += r\n",
        "  allr2.append(r)\n",
        "  update(u, s, r, particles)"
      ],
      "execution_count": null,
      "outputs": [
        {
          "output_type": "error",
          "ename": "KeyboardInterrupt",
          "evalue": "ignored",
          "traceback": [
            "\u001b[0;31m---------------------------------------------------------------------------\u001b[0m",
            "\u001b[0;31mKeyboardInterrupt\u001b[0m                         Traceback (most recent call last)",
            "\u001b[0;32m<ipython-input-47-ce938ae49fe0>\u001b[0m in \u001b[0;36m<module>\u001b[0;34m()\u001b[0m\n\u001b[1;32m     14\u001b[0m   \u001b[0mcu_r\u001b[0m \u001b[0;34m+=\u001b[0m \u001b[0mr\u001b[0m\u001b[0;34m\u001b[0m\u001b[0;34m\u001b[0m\u001b[0m\n\u001b[1;32m     15\u001b[0m   \u001b[0mallr2\u001b[0m\u001b[0;34m.\u001b[0m\u001b[0mappend\u001b[0m\u001b[0;34m(\u001b[0m\u001b[0mr\u001b[0m\u001b[0;34m)\u001b[0m\u001b[0;34m\u001b[0m\u001b[0;34m\u001b[0m\u001b[0m\n\u001b[0;32m---> 16\u001b[0;31m   \u001b[0mupdate\u001b[0m\u001b[0;34m(\u001b[0m\u001b[0mu\u001b[0m\u001b[0;34m,\u001b[0m \u001b[0ms\u001b[0m\u001b[0;34m,\u001b[0m \u001b[0mr\u001b[0m\u001b[0;34m,\u001b[0m \u001b[0mparticles\u001b[0m\u001b[0;34m)\u001b[0m\u001b[0;34m\u001b[0m\u001b[0;34m\u001b[0m\u001b[0m\n\u001b[0m",
            "\u001b[0;32m<ipython-input-40-4de1eb61b0e2>\u001b[0m in \u001b[0;36mupdate\u001b[0;34m(u, s, r, particles)\u001b[0m\n\u001b[1;32m     19\u001b[0m       \u001b[0mparticle\u001b[0m\u001b[0;34m.\u001b[0m\u001b[0mupdate\u001b[0m\u001b[0;34m(\u001b[0m\u001b[0;34m{\u001b[0m\u001b[0;34m\"z\"\u001b[0m\u001b[0;34m:\u001b[0m \u001b[0mnp\u001b[0m\u001b[0;34m.\u001b[0m\u001b[0mrandom\u001b[0m\u001b[0;34m.\u001b[0m\u001b[0mmultinomial\u001b[0m\u001b[0;34m(\u001b[0m\u001b[0;36m1\u001b[0m\u001b[0;34m,\u001b[0m \u001b[0mparticle\u001b[0m\u001b[0;34m[\u001b[0m\u001b[0;34m\"pi\"\u001b[0m\u001b[0;34m]\u001b[0m\u001b[0;34m,\u001b[0m \u001b[0mnum_users\u001b[0m\u001b[0;34m)\u001b[0m\u001b[0;34m}\u001b[0m\u001b[0;34m)\u001b[0m\u001b[0;34m\u001b[0m\u001b[0;34m\u001b[0m\u001b[0m\n\u001b[1;32m     20\u001b[0m       particle.update({\"p\": np.array([np.random.multivariate_normal(particle[\"mu\"][np.argmax(particle[\"z\"][i])],\n\u001b[0;32m---> 21\u001b[0;31m                                                                     particle[\"amgis\"][np.argmax(particle[\"z\"][i])] * particle[\"Sigma_0\"]) for i in range(num_users)])})\n\u001b[0m\u001b[1;32m     22\u001b[0m   \u001b[0;32mfor\u001b[0m \u001b[0mparticle\u001b[0m \u001b[0;32min\u001b[0m \u001b[0mparticles\u001b[0m\u001b[0;34m:\u001b[0m\u001b[0;34m\u001b[0m\u001b[0;34m\u001b[0m\u001b[0m\n\u001b[1;32m     23\u001b[0m     \u001b[0;31m# Sufficient statistics for z\u001b[0m\u001b[0;34m\u001b[0m\u001b[0;34m\u001b[0m\u001b[0;34m\u001b[0m\u001b[0m\n",
            "\u001b[0;32m<ipython-input-40-4de1eb61b0e2>\u001b[0m in \u001b[0;36m<listcomp>\u001b[0;34m(.0)\u001b[0m\n\u001b[1;32m     19\u001b[0m       \u001b[0mparticle\u001b[0m\u001b[0;34m.\u001b[0m\u001b[0mupdate\u001b[0m\u001b[0;34m(\u001b[0m\u001b[0;34m{\u001b[0m\u001b[0;34m\"z\"\u001b[0m\u001b[0;34m:\u001b[0m \u001b[0mnp\u001b[0m\u001b[0;34m.\u001b[0m\u001b[0mrandom\u001b[0m\u001b[0;34m.\u001b[0m\u001b[0mmultinomial\u001b[0m\u001b[0;34m(\u001b[0m\u001b[0;36m1\u001b[0m\u001b[0;34m,\u001b[0m \u001b[0mparticle\u001b[0m\u001b[0;34m[\u001b[0m\u001b[0;34m\"pi\"\u001b[0m\u001b[0;34m]\u001b[0m\u001b[0;34m,\u001b[0m \u001b[0mnum_users\u001b[0m\u001b[0;34m)\u001b[0m\u001b[0;34m}\u001b[0m\u001b[0;34m)\u001b[0m\u001b[0;34m\u001b[0m\u001b[0;34m\u001b[0m\u001b[0m\n\u001b[1;32m     20\u001b[0m       particle.update({\"p\": np.array([np.random.multivariate_normal(particle[\"mu\"][np.argmax(particle[\"z\"][i])],\n\u001b[0;32m---> 21\u001b[0;31m                                                                     particle[\"amgis\"][np.argmax(particle[\"z\"][i])] * particle[\"Sigma_0\"]) for i in range(num_users)])})\n\u001b[0m\u001b[1;32m     22\u001b[0m   \u001b[0;32mfor\u001b[0m \u001b[0mparticle\u001b[0m \u001b[0;32min\u001b[0m \u001b[0mparticles\u001b[0m\u001b[0;34m:\u001b[0m\u001b[0;34m\u001b[0m\u001b[0;34m\u001b[0m\u001b[0m\n\u001b[1;32m     23\u001b[0m     \u001b[0;31m# Sufficient statistics for z\u001b[0m\u001b[0;34m\u001b[0m\u001b[0;34m\u001b[0m\u001b[0;34m\u001b[0m\u001b[0m\n",
            "\u001b[0;32mmtrand.pyx\u001b[0m in \u001b[0;36mnumpy.random.mtrand.RandomState.multivariate_normal\u001b[0;34m()\u001b[0m\n",
            "\u001b[0;32m<__array_function__ internals>\u001b[0m in \u001b[0;36msvd\u001b[0;34m(*args, **kwargs)\u001b[0m\n",
            "\u001b[0;32m/usr/local/lib/python3.6/dist-packages/numpy/linalg/linalg.py\u001b[0m in \u001b[0;36msvd\u001b[0;34m(a, full_matrices, compute_uv, hermitian)\u001b[0m\n\u001b[1;32m   1624\u001b[0m \u001b[0;34m\u001b[0m\u001b[0m\n\u001b[1;32m   1625\u001b[0m         \u001b[0msignature\u001b[0m \u001b[0;34m=\u001b[0m \u001b[0;34m'D->DdD'\u001b[0m \u001b[0;32mif\u001b[0m \u001b[0misComplexType\u001b[0m\u001b[0;34m(\u001b[0m\u001b[0mt\u001b[0m\u001b[0;34m)\u001b[0m \u001b[0;32melse\u001b[0m \u001b[0;34m'd->ddd'\u001b[0m\u001b[0;34m\u001b[0m\u001b[0;34m\u001b[0m\u001b[0m\n\u001b[0;32m-> 1626\u001b[0;31m         \u001b[0mu\u001b[0m\u001b[0;34m,\u001b[0m \u001b[0ms\u001b[0m\u001b[0;34m,\u001b[0m \u001b[0mvh\u001b[0m \u001b[0;34m=\u001b[0m \u001b[0mgufunc\u001b[0m\u001b[0;34m(\u001b[0m\u001b[0ma\u001b[0m\u001b[0;34m,\u001b[0m \u001b[0msignature\u001b[0m\u001b[0;34m=\u001b[0m\u001b[0msignature\u001b[0m\u001b[0;34m,\u001b[0m \u001b[0mextobj\u001b[0m\u001b[0;34m=\u001b[0m\u001b[0mextobj\u001b[0m\u001b[0;34m)\u001b[0m\u001b[0;34m\u001b[0m\u001b[0;34m\u001b[0m\u001b[0m\n\u001b[0m\u001b[1;32m   1627\u001b[0m         \u001b[0mu\u001b[0m \u001b[0;34m=\u001b[0m \u001b[0mu\u001b[0m\u001b[0;34m.\u001b[0m\u001b[0mastype\u001b[0m\u001b[0;34m(\u001b[0m\u001b[0mresult_t\u001b[0m\u001b[0;34m,\u001b[0m \u001b[0mcopy\u001b[0m\u001b[0;34m=\u001b[0m\u001b[0;32mFalse\u001b[0m\u001b[0;34m)\u001b[0m\u001b[0;34m\u001b[0m\u001b[0;34m\u001b[0m\u001b[0m\n\u001b[1;32m   1628\u001b[0m         \u001b[0ms\u001b[0m \u001b[0;34m=\u001b[0m \u001b[0ms\u001b[0m\u001b[0;34m.\u001b[0m\u001b[0mastype\u001b[0m\u001b[0;34m(\u001b[0m\u001b[0m_realType\u001b[0m\u001b[0;34m(\u001b[0m\u001b[0mresult_t\u001b[0m\u001b[0;34m)\u001b[0m\u001b[0;34m,\u001b[0m \u001b[0mcopy\u001b[0m\u001b[0;34m=\u001b[0m\u001b[0;32mFalse\u001b[0m\u001b[0;34m)\u001b[0m\u001b[0;34m\u001b[0m\u001b[0;34m\u001b[0m\u001b[0m\n",
            "\u001b[0;31mKeyboardInterrupt\u001b[0m: "
          ]
        }
      ]
    },
    {
      "cell_type": "code",
      "metadata": {
        "id": "S_ESJ6NGIJs5",
        "colab_type": "code",
        "colab": {
          "base_uri": "https://localhost:8080/",
          "height": 265
        },
        "outputId": "bd6c467d-4471-4f57-a510-e21315b3508d"
      },
      "source": [
        "plt.plot(range(900), np.cumsum(allr2)[:900], \"-\")\n",
        "plt.show()"
      ],
      "execution_count": null,
      "outputs": [
        {
          "output_type": "display_data",
          "data": {
            "image/png": "[encoded data removed]",
            "text/plain": [
              "<Figure size 432x288 with 1 Axes>"
            ]
          },
          "metadata": {
            "tags": [],
            "needs_background": "light"
          }
        }
      ]
    },
    {
      "cell_type": "code",
      "metadata": {
        "id": "GOgBXPu6iLVU",
        "colab_type": "code",
        "colab": {
          "base_uri": "https://localhost:8080/",
          "height": 34
        },
        "outputId": "ae3ed846-6390-4eb5-9d8a-e0c6f665d26c"
      },
      "source": [
        "cum_r2 = np.cumsum(allr2)\n",
        "cum_r2[-1]"
      ],
      "execution_count": null,
      "outputs": [
        {
          "output_type": "execute_result",
          "data": {
            "text/plain": [
              "35"
            ]
          },
          "metadata": {
            "tags": []
          },
          "execution_count": 52
        }
      ]
    },
    {
      "cell_type": "code",
      "metadata": {
        "id": "ChXgOxrZifxt",
        "colab_type": "code",
        "colab": {
          "base_uri": "https://localhost:8080/",
          "height": 34
        },
        "outputId": "b6f82835-b695-447f-ea40-72e072b097e5"
      },
      "source": [
        "cum_rewards_2[964]"
      ],
      "execution_count": null,
      "outputs": [
        {
          "output_type": "execute_result",
          "data": {
            "text/plain": [
              "40"
            ]
          },
          "metadata": {
            "tags": []
          },
          "execution_count": 54
        }
      ]
    },
    {
      "cell_type": "code",
      "metadata": {
        "id": "dfk-KGJzin6R",
        "colab_type": "code",
        "colab": {}
      },
      "source": [
        "dp_r = np.load(\"cum_rewards.npy\")"
      ],
      "execution_count": null,
      "outputs": []
    },
    {
      "cell_type": "code",
      "metadata": {
        "id": "sgdX5-2ijP0v",
        "colab_type": "code",
        "colab": {
          "base_uri": "https://localhost:8080/",
          "height": 404
        },
        "outputId": "3bfa29b5-1016-44f1-f67f-259da5d7c98c"
      },
      "source": [
        "plt.figure(figsize = (8, 6))\n",
        "plt.plot(range(965), dp_r[:965], \"-\", label = \"DP-DynUCB\")\n",
        "plt.plot(range(965), cum_rewards_2[:965], \"-\", label = \"ICTR-1\")\n",
        "plt.plot(range(965), cum_r2, \"-\", label = \"ICTR-2\")\n",
        "plt.xlabel(\"Number of Iterations\")\n",
        "plt.ylabel(\"Reward\")\n",
        "plt.title(\"Reward vs Iteration\")\n",
        "plt.legend()\n",
        "plt.show()"
      ],
      "execution_count": null,
      "outputs": [
        {
          "output_type": "display_data",
          "data": {
            "image/png": "[encoded data removed]",
            "text/plain": [
              "<Figure size 576x432 with 1 Axes>"
            ]
          },
          "metadata": {
            "tags": [],
            "needs_background": "light"
          }
        }
      ]
    },
    {
      "cell_type": "code",
      "metadata": {
        "id": "9LZGs8c1jYBX",
        "colab_type": "code",
        "colab": {}
      },
      "source": [
        ""
      ],
      "execution_count": null,
      "outputs": []
    }
  ]
}