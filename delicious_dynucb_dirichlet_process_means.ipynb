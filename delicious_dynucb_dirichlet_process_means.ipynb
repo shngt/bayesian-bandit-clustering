{
  "nbformat": 4,
  "nbformat_minor": 0,
  "metadata": {
    "colab": {
      "name": "delicious_dynucb_dirichlet_process_means",
      "provenance": [],
      "collapsed_sections": []
    },
    "kernelspec": {
      "name": "python3",
      "display_name": "Python 3"
    }
  },
  "cells": [
    {
      "cell_type": "code",
      "metadata": {
        "id": "hO4ugDilIedi",
        "colab_type": "code",
        "colab": {}
      },
      "source": [
        "from google.colab import drive\n",
        "drive.mount('/content/drive')\n",
        "%cd drive/My\\ Drive/delicious_csv"
      ],
      "execution_count": null,
      "outputs": []
    },
    {
      "cell_type": "code",
      "metadata": {
        "id": "G42t5_eFIGWh",
        "colab_type": "code",
        "colab": {}
      },
      "source": [
        "import pandas as pd\n",
        "import numpy as np\n",
        "from collections import defaultdict"
      ],
      "execution_count": null,
      "outputs": []
    },
    {
      "cell_type": "code",
      "metadata": {
        "id": "czhEv5oFIQRH",
        "colab_type": "code",
        "colab": {}
      },
      "source": [
        "item_embeddings = pd.read_csv(\"norm_matrix_ejml_full_delicious.csv\", header=None)\n",
        "item_embeddings.sort_values(0, inplace=True)\n",
        "book = pd.read_csv(\"bookmarks.csv\")\n",
        "book_tags = pd.read_csv(\"bookmark_tags.csv\")\n",
        "tags = pd.read_csv(\"tags.csv\")\n",
        "user_contacts = pd.read_csv(\"user_contacts.csv\")\n",
        "user_contacts_t = pd.read_csv(\"user_contacts-timestamps.csv\")\n",
        "user_taggedb = pd.read_csv(\"user_taggedbookmarks.csv\")\n",
        "user_taggedbt = pd.read_csv(\"user_taggedbookmarks-timestamps.csv\")"
      ],
      "execution_count": null,
      "outputs": []
    },
    {
      "cell_type": "code",
      "metadata": {
        "id": "B_x__CjwKnJA",
        "colab_type": "code",
        "colab": {}
      },
      "source": [
        "idx_to_item = {idx: item for idx, item in enumerate(item_embeddings[0].to_list())}\n",
        "item_set = set(item_embeddings[0].to_list())\n",
        "item_to_idx = {v: k for k, v in idx_to_item.items()}\n",
        "idx_to_user = {idx: user for idx, user in enumerate(sorted(list(set(user_taggedb['userID']))))}\n",
        "user_to_idx = {v: k for k, v in idx_to_user.items()}"
      ],
      "execution_count": null,
      "outputs": []
    },
    {
      "cell_type": "code",
      "metadata": {
        "id": "B7YfYE_oZjaX",
        "colab_type": "code",
        "colab": {}
      },
      "source": [
        "user_to_book = []\n",
        "for idx, user in idx_to_user.items():\n",
        "  user_to_book.append((user, sorted(list(set(user_taggedb[user_taggedb[\"userID\"] == user][\"bookmarkID\"])))))\n",
        "user_to_items = {user: items for user, items in user_to_book}\n",
        "pca = item_embeddings.iloc[:, 1:].to_numpy()"
      ],
      "execution_count": null,
      "outputs": []
    },
    {
      "cell_type": "code",
      "metadata": {
        "id": "tmm1cqqBN4pL",
        "colab_type": "code",
        "colab": {}
      },
      "source": [
        "# hyperparams\n",
        "N_u = len(idx_to_user)\n",
        "K = 16\n",
        "\n",
        "num_items = len(idx_to_item)\n",
        "d = 25 # feature length\n",
        "num_contexts = 25\n",
        "alpha = 0.5\n",
        "\n",
        "T = 50000 # no. of iterations"
      ],
      "execution_count": null,
      "outputs": []
    },
    {
      "cell_type": "code",
      "metadata": {
        "id": "KVbe_NqMPxQ_",
        "colab_type": "code",
        "colab": {}
      },
      "source": [
        "def get_contexts(user_idx, num_contexts):\n",
        "    \n",
        "    user = idx_to_user[user_idx]\n",
        "    items = user_to_items[user]\n",
        "    items_idx = np.array([item_to_idx[item] for item in items if item in item_set])\n",
        "    \n",
        "    good_item_context = pca[np.random.choice(items_idx)]\n",
        "    bad_items_idx = np.random.choice(np.setdiff1d(range(num_items), items_idx), num_contexts - 1, replace=False) \n",
        "    bad_items_contexts = pca[bad_items_idx]\n",
        "    \n",
        "    contexts = np.vstack((good_item_context, bad_items_contexts))\n",
        "    rewards = np.array([1] + 24 * [-1/24])\n",
        "    \n",
        "    return contexts, rewards"
      ],
      "execution_count": null,
      "outputs": []
    },
    {
      "cell_type": "code",
      "metadata": {
        "id": "egaq8WJYRWwF",
        "colab_type": "code",
        "colab": {}
      },
      "source": [
        "# initialize\n",
        "\n",
        "b = np.zeros((N_u, d))\n",
        "w = np.zeros((N_u, d))\n",
        "\n",
        "M = np.empty((N_u, d, d))\n",
        "for u in range(N_u):\n",
        "    M[u] = np.eye(d, d)\n",
        "\n",
        "r = np.random.choice(K, N_u) \n",
        "\n",
        "C = [np.where(r == k)[0] for k in range(K)]\n",
        "\n",
        "M_cap = np.empty((K, d, d))\n",
        "b_cap = np.zeros((K, d))\n",
        "w_cap = np.empty((K, d))\n",
        "\n",
        "# this loop can be removed... vectorize\n",
        "for k in range(K):\n",
        "    b_cap[k] = np.sum(b[C[k]])\n",
        "    M_cap[k] = np.eye(d, d) + np.sum(M[C[k]] - np.eye(d, d))\n",
        "    w_cap[k] = np.linalg.inv(M_cap[k]) @ b_cap[k]\n",
        "  # check context dep clustering paper.. a better way to update"
      ],
      "execution_count": null,
      "outputs": []
    },
    {
      "cell_type": "code",
      "metadata": {
        "id": "_fAf0So4V5kM",
        "colab_type": "code",
        "colab": {}
      },
      "source": [
        "r_total = 0.0\n",
        "all_rewards = []\n",
        "for it in range(1, T + 1):\n",
        "    if it % 1000 == 0:\n",
        "      print(it)\n",
        "      print(r_total)\n",
        "    u = np.random.choice(N_u)\n",
        "    k = r[u]\n",
        "    contexts, rewards = get_contexts(u, num_contexts)\n",
        "    \n",
        "    a = np.argmax(contexts @ w_cap[k] + alpha * np.sqrt(np.log(it + 1) * np.diag(contexts @ np.linalg.inv(M_cap[k]) @ contexts.T)))\n",
        "    r_obs = rewards[a]\n",
        "    r_total += r_obs\n",
        "    all_rewards.append(r_obs)\n",
        "\n",
        "    M[u] += contexts[a] @ contexts[a].T\n",
        "    b[u] += r_obs * contexts[a]\n",
        "    w[u] = np.linalg.inv(M[u]) @ b[u] # check better ways\n",
        "    \n",
        "    # reassign clusters\n",
        "    k_new = np.argmin(np.linalg.norm(w[u] - w_cap, axis = 1))\n",
        "    if k_new != k:\n",
        "        r[u] = k_new\n",
        "        C[k_new] = np.append(C[k_new], u)\n",
        "        C[k] = np.setdiff1d(C[k], u)\n",
        "        \n",
        "        # recompute vals\n",
        "        for k in range(K):\n",
        "            b_cap[k] = np.sum(b[C[k]])\n",
        "            M_cap[k] = np.eye(d, d) + np.sum(M[C[k]] - np.eye(d, d))\n",
        "            w_cap[k] = np.linalg.inv(M_cap[k]) @ b_cap[k]"
      ],
      "execution_count": null,
      "outputs": []
    },
    {
      "cell_type": "code",
      "metadata": {
        "id": "JHvpm45dJwYz",
        "colab_type": "code",
        "colab": {
          "base_uri": "https://localhost:8080/",
          "height": 34
        },
        "outputId": "615c454f-be4f-4b09-f049-685618bb61b5"
      },
      "source": [
        "len(all_rewards)"
      ],
      "execution_count": null,
      "outputs": [
        {
          "output_type": "execute_result",
          "data": {
            "text/plain": [
              "50000"
            ]
          },
          "metadata": {
            "tags": []
          },
          "execution_count": 17
        }
      ]
    },
    {
      "cell_type": "code",
      "metadata": {
        "id": "hJRMOY-eLyzF",
        "colab_type": "code",
        "colab": {
          "base_uri": "https://localhost:8080/",
          "height": 265
        },
        "outputId": "3e8f8207-d86c-49f0-b0fa-b81af9d36cb2"
      },
      "source": [
        "import matplotlib.pyplot as plt\n",
        "\n",
        "cum_rewards = np.cumsum(all_rewards)\n",
        "\n",
        "plt.plot(range(1500), cum_rewards[:1500], \"-x\")\n",
        "plt.show()"
      ],
      "execution_count": null,
      "outputs": [
        {
          "output_type": "display_data",
          "data": {
            "image/png": "[encoded data removed]",
            "text/plain": [
              "<Figure size 432x288 with 1 Axes>"
            ]
          },
          "metadata": {
            "tags": [],
            "needs_background": "light"
          }
        }
      ]
    },
    {
      "cell_type": "code",
      "metadata": {
        "id": "CWoW9CKSNh4x",
        "colab_type": "code",
        "colab": {}
      },
      "source": [
        "np.save(\"cum_rewards.npy\", cum_rewards)"
      ],
      "execution_count": null,
      "outputs": []
    }
  ]
}