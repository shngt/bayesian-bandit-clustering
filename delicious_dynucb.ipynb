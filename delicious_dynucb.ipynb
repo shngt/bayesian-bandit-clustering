{
  "nbformat": 4,
  "nbformat_minor": 0,
  "metadata": {
    "kernelspec": {
      "display_name": "Python 3",
      "language": "python",
      "name": "python3"
    },
    "language_info": {
      "codemirror_mode": {
        "name": "ipython",
        "version": 3
      },
      "file_extension": ".py",
      "mimetype": "text/x-python",
      "name": "python",
      "nbconvert_exporter": "python",
      "pygments_lexer": "ipython3",
      "version": "3.6.9"
    },
    "colab": {
      "name": "delicious_dynucb.ipynb",
      "provenance": []
    }
  },
  "cells": [
    {
      "cell_type": "code",
      "metadata": {
        "id": "qywMC54cedLC",
        "colab_type": "code",
        "colab": {}
      },
      "source": [
        "import pandas as pd\n",
        "import numpy as np\n",
        "from collections import defaultdict\n",
        "\n",
        "book = pd.read_csv(\"delicious_csv/bookmarks.csv\")\n",
        "book_tags = pd.read_csv(\"delicious_csv/bookmark_tags.csv\")\n",
        "tags = pd.read_csv(\"delicious_csv/tags.csv\")\n",
        "user_contacts = pd.read_csv(\"delicious_csv/user_contacts.csv\")\n",
        "user_contacts_t = pd.read_csv(\"delicious_csv/user_contacts_timestamps.csv\")\n",
        "user_taggedb = pd.read_csv(\"delicious_csv/user_taggedbookmarks.csv\")\n",
        "user_taggedbt = pd.read_csv(\"delicious_csv/user_taggedbookmarks_timestamps.csv\")"
      ],
      "execution_count": null,
      "outputs": []
    },
    {
      "cell_type": "code",
      "metadata": {
        "id": "z6GvP4IwedLU",
        "colab_type": "code",
        "colab": {}
      },
      "source": [
        "idx_to_user = list(set(user_taggedbt[\"userID\"]))\n",
        "\n",
        "useridx_to_book = []\n",
        "for idx, u in enumerate(idx_to_user):\n",
        "    useridx_to_book.append(list(user_taggedbt[user_taggedbt[\"userID\"] == u][\"bookmarkID\"]))\n",
        "    \n",
        "idx_to_book = list(book[\"id\"])\n",
        "\n",
        "# there can be some items receving more tags ... some less\n",
        "# but here, let's just say --> 1, 0\n",
        "\n",
        "num_items = len(idx_to_book)"
      ],
      "execution_count": null,
      "outputs": []
    },
    {
      "cell_type": "code",
      "metadata": {
        "id": "2lfAQGjWedLm",
        "colab_type": "code",
        "colab": {}
      },
      "source": [
        "pca = np.load(\"tfidf_pca_25_inc.npy\")"
      ],
      "execution_count": null,
      "outputs": []
    },
    {
      "cell_type": "code",
      "metadata": {
        "id": "-iC7CCzHedLz",
        "colab_type": "code",
        "colab": {}
      },
      "source": [
        "def get_contexts(user_idx, num_contexts):\n",
        "    \n",
        "    items = useridx_to_book[user_idx]\n",
        "    items_idx = np.array([idx_to_book.index(item) for item in items])\n",
        "    \n",
        "    good_item_context = pca[np.random.choice(items_idx)]\n",
        "    bad_items_idx = np.random.choice(np.setdiff1d(range(num_items), items_idx), num_contexts - 1) \n",
        "    bad_items_contexts = pca[bad_items_idx]\n",
        "    \n",
        "    contexts = np.vstack((good_item_context, bad_items_contexts))\n",
        "    rewards = np.array([1] + 24 * [-1/24])\n",
        "    \n",
        "    return contexts, rewards"
      ],
      "execution_count": null,
      "outputs": []
    },
    {
      "cell_type": "code",
      "metadata": {
        "id": "gJ5q5I1_edL9",
        "colab_type": "code",
        "colab": {}
      },
      "source": [
        "# hyperparams\n",
        "N_u = len(idx_to_user)\n",
        "K = 1\n",
        "\n",
        "d = 25 # feature length\n",
        "num_contexts = 25\n",
        "alpha = 0.5\n",
        "Lambda = 0.01\n",
        "\n",
        "T = 20 # no. of iterations"
      ],
      "execution_count": null,
      "outputs": []
    },
    {
      "cell_type": "code",
      "metadata": {
        "id": "ENRNAF4AedML",
        "colab_type": "code",
        "colab": {}
      },
      "source": [
        "# initialize\n",
        "\n",
        "b = np.zeros((N_u, d))\n",
        "w = np.zeros((N_u, d))\n",
        "\n",
        "M = np.empty((N_u, d, d))\n",
        "for u in range(N_u):\n",
        "    M[u] = np.eye(d, d)\n",
        "\n",
        "r = np.random.choice(K, N_u) \n",
        "\n",
        "C = [np.where(r == k)[0] for k in range(K)]\n",
        "\n",
        "M_cap = np.empty((K, d, d))\n",
        "b_cap = np.zeros((K, d))\n",
        "w_cap = np.empty((K, d))\n",
        "\n",
        "# this loop can be removed... vectorize\n",
        "for k in range(K):\n",
        "    b_cap[k] = np.sum(b[C[k]], axis = 0)\n",
        "    M_cap[k] = np.eye(d, d) + np.sum(M[C[k]] - np.eye(d, d), axis = 0)\n",
        "    w_cap[k] = np.linalg.inv(M_cap[k]) @ b_cap[k]\n",
        "  # check context dep clustering paper.. a better way to update\n"
      ],
      "execution_count": null,
      "outputs": []
    },
    {
      "cell_type": "code",
      "metadata": {
        "jupyter": {
          "outputs_hidden": true,
          "source_hidden": true
        },
        "id": "HlGuOX2medMU",
        "colab_type": "code",
        "colab": {},
        "outputId": "e9e1c6d8-902a-4662-d89d-8fec5b8ead0c"
      },
      "source": [
        "for it in range(1, T + 1):\n",
        "    if it % 2 == 0: print(it)\n",
        "    u = np.random.choice(N_u)\n",
        "    k = r[u]\n",
        "    contexts, rewards = get_contexts(u, num_contexts)\n",
        "    \n",
        "    a = np.argmax(contexts @ w_cap[k] + alpha * np.sqrt(np.log(it + 1) * np.diag(contexts @ np.linalg.inv(M_cap[k]) @ contexts.T)))\n",
        "    r_obs = rewards[a]\n",
        "    \n",
        "    M[u] += contexts[a] @ contexts[a].T\n",
        "    b[u] += r_obs * contexts[a]\n",
        "    w[u] = np.linalg.inv(M[u]) @ b[u] # check better ways\n",
        "    \n",
        "    # reassign clusters\n",
        "    k_new = np.argmin(np.linalg.norm(w[u] - w_cap, axis = 1))\n",
        "    if k_new != k:\n",
        "        r[u] = k_new\n",
        "        C[k_new] = np.append(C[k_new], u)\n",
        "        C[k] = np.setdiff1d(C[k], u)\n",
        "        \n",
        "        # recompute vals for k and k_new\n",
        "        # for k\n",
        "        b_cap[k] -= b[u]\n",
        "        M_cap[k] -= M[u] - np.eye(d, d)\n",
        "\n",
        "        # for k_new\n",
        "        b_cap[k_new] += b[u]\n",
        "        M_cap[k_new] += M[u] - np.eye(d, d)\n",
        "\n",
        "        for idx in [k, k_new]:\n",
        "            w_cap[idx] = np.linalg.inv(M_cap[idx]) @ b_cap[idx]"
      ],
      "execution_count": null,
      "outputs": [
        {
          "output_type": "stream",
          "text": [
            "2\n",
            "4\n",
            "6\n",
            "8\n",
            "10\n",
            "12\n",
            "14\n",
            "16\n",
            "18\n",
            "20\n"
          ],
          "name": "stdout"
        }
      ]
    },
    {
      "cell_type": "code",
      "metadata": {
        "id": "aLqpuKUxedMf",
        "colab_type": "code",
        "colab": {},
        "outputId": "c73a9958-7866-45e0-e549-7fde0e2676c3"
      },
      "source": [
        "# dp-means\n",
        "for it in range(1, T + 1):\n",
        "    if it % 2 == 0: print(it)\n",
        "    u = np.random.choice(N_u)\n",
        "    k = r[u]\n",
        "    contexts, rewards = get_contexts(u, num_contexts)\n",
        "    \n",
        "    a = np.argmax(contexts @ w_cap[k] + alpha * np.sqrt(np.log(it + 1) * np.diag(contexts @ np.linalg.inv(M_cap[k]) @ contexts.T)))\n",
        "    r_obs = rewards[a]\n",
        "    \n",
        "    M[u] += contexts[a] @ contexts[a].T\n",
        "    b[u] += r_obs * contexts[a]\n",
        "    w[u] = np.linalg.inv(M[u]) @ b[u] # check better ways\n",
        "    \n",
        "    # reassign clusters\n",
        "    dists = np.linalg.norm(w[u] - w_cap, axis = 1)\n",
        "    min_val = np.min(dists)\n",
        "    print(min_val)\n",
        "    if min_val <= Lambda:\n",
        "        k_new = np.argmin(dists)\n",
        "        if k_new != k:\n",
        "            r[u] = k_new\n",
        "            C[k_new] = np.append(C[k_new], u)\n",
        "            C[k] = np.setdiff1d(C[k], u)\n",
        "\n",
        "            # recompute vals for k and k_new\n",
        "            # for k\n",
        "            b_cap[k] -= b[u]\n",
        "            M_cap[k] -= M[u] - np.eye(d, d)\n",
        "            \n",
        "            # for k_new\n",
        "            b_cap[k_new] += b[u]\n",
        "            M_cap[k_new] += M[u] - np.eye(d, d)\n",
        "            \n",
        "            for idx in [k, k_new]:\n",
        "                w_cap[idx] = np.linalg.inv(M_cap[idx]) @ b_cap[idx]\n",
        "                \n",
        "    else:\n",
        "        K = K + 1\n",
        "        r[u] = K\n",
        "        C.append(np.array(u)) # add a new set\n",
        "        C[k] = np.setdiff1d(C[k], u) # remove u from older set\n",
        "        w_cap = np.vstack((w_cap, w[u]))\n",
        "        M_cap = np.vstack((M_cap, M[u][None, :]))\n",
        "        b_cap = np.vstack((b_cap, b[u]))\n",
        "        \n",
        "        # recompute only for k\n",
        "        b_cap[k] -= b[u]\n",
        "        M_cap[k] -= M[u] - np.eye(d, d)\n",
        "        w_cap[k] = np.linalg.inv(M_cap[k]) @ b_cap[k]\n",
        "        # can refactor the code ... "
      ],
      "execution_count": null,
      "outputs": [
        {
          "output_type": "stream",
          "text": [
            "0.031147002914085037\n",
            "2\n",
            "0.047946840829768196\n",
            "0.04629488490735968\n",
            "4\n",
            "0.0500098979925474\n",
            "0.04678132837488875\n",
            "6\n",
            "0.010862433580182525\n",
            "0.029196162390157192\n",
            "8\n",
            "0.02036548351599269\n",
            "0.011653465905799012\n",
            "10\n",
            "0.034663394007870406\n",
            "0.00789339145971224\n",
            "12\n",
            "0.013016242446942647\n",
            "0.02958742505205972\n",
            "14\n",
            "0.011189475221607237\n",
            "0.01391586942099356\n",
            "16\n",
            "0.012705912645315563\n",
            "0.02149769983768524\n",
            "18\n",
            "0.0\n",
            "0.03501838496674674\n",
            "20\n",
            "0.04506383417148352\n"
          ],
          "name": "stdout"
        }
      ]
    },
    {
      "cell_type": "code",
      "metadata": {
        "id": "RnCrSvmTedMo",
        "colab_type": "code",
        "colab": {},
        "outputId": "02c87221-0cd5-4ea5-e151-22ec51d4a36e"
      },
      "source": [
        "C"
      ],
      "execution_count": null,
      "outputs": [
        {
          "output_type": "execute_result",
          "data": {
            "text/plain": [
              "[array([   0,    1,    2, ..., 1864, 1865, 1866]),\n",
              " array(844),\n",
              " array(200),\n",
              " array(14),\n",
              " array(1007),\n",
              " array(1317),\n",
              " array(1303),\n",
              " array(1093),\n",
              " array(1762),\n",
              " array([1821, 1381]),\n",
              " array(1848),\n",
              " array(1337),\n",
              " array(1132),\n",
              " array([ 689, 1172]),\n",
              " array(1428),\n",
              " array(1020),\n",
              " array(1292),\n",
              " array(1248),\n",
              " array(1747)]"
            ]
          },
          "metadata": {
            "tags": []
          },
          "execution_count": 133
        }
      ]
    }
  ]
}